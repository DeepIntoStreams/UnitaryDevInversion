{
 "cells": [
  {
   "cell_type": "markdown",
   "id": "862e63ac",
   "metadata": {},
   "source": [
    "# Unit Test Code"
   ]
  },
  {
   "cell_type": "code",
   "execution_count": 1,
   "id": "b6023a9d",
   "metadata": {
    "ExecuteTime": {
     "end_time": "2024-01-23T13:42:37.092221Z",
     "start_time": "2024-01-23T13:41:52.326757Z"
    }
   },
   "outputs": [
    {
     "name": "stdout",
     "output_type": "stream",
     "text": [
      "38880\n"
     ]
    },
    {
     "data": {
      "application/vnd.jupyter.widget-view+json": {
       "model_id": "adbe4bc2cff04e3a86614cf8e80c63a2",
       "version_major": 2,
       "version_minor": 0
      },
      "text/plain": [
       "  0%|          | 0/38880 [00:00<?, ?it/s]"
      ]
     },
     "metadata": {},
     "output_type": "display_data"
    }
   ],
   "source": [
    "import numpy as np\n",
    "from tqdm.notebook import tqdm\n",
    "import itertools\n",
    "\n",
    "# dim of the path\n",
    "d = 5\n",
    "\n",
    "# we only generate words whose length <= max_len\n",
    "max_len = 6\n",
    "words = [str(i) for i in range(1, d + 1)]  # first level words\n",
    "for _ in range(2, max_len + 1):  # length of the word\n",
    "    tmp = []\n",
    "    for word in words:\n",
    "        for letter in range(1, d + 1):\n",
    "            tmp.append(word + str(letter))\n",
    "    words += tmp\n",
    "print(len(words))  # words: all possible words with length <= max_len\n",
    "\n",
    "for word in tqdm(words):  # check each word\n",
    "    word = np.array([int(s) for s in word])\n",
    "    basis = dict()  # define the linear maps\n",
    "    for letter in np.unique(word):\n",
    "        tmp = np.zeros([len(word) + 1, len(word) + 1], dtype=np.complex128)\n",
    "        for pos in np.where(word == letter)[0]:\n",
    "            tmp[pos, pos] += complex(0, 1)\n",
    "            tmp[pos, pos + 1] += 1\n",
    "            tmp[pos + 1, pos] -= 1\n",
    "        basis[letter] = tmp\n",
    "        \n",
    "    # we check all permutations of the word\n",
    "    perms = list(set(\n",
    "        itertools.permutations(word)))  \n",
    "    correct = []  # record the permutation that \n",
    "                  # produces a non-zero (1, N_tilde + 1) position\n",
    "    for perm in perms:\n",
    "        prod = np.eye(len(word) + 1, dtype=np.complex128)\n",
    "        for i in perm:\n",
    "            prod = prod @ basis[i]\n",
    "        if prod[0, len(word)] != 0:\n",
    "            correct.append(perm)\n",
    "\n",
    "    if not (len(correct) == 1 and (correct[0] == word).all()\n",
    "            ):  # we expectation the word I is the only correct one\n",
    "        raise Exception('Wrong Case!')"
   ]
  },
  {
   "cell_type": "markdown",
   "id": "c5acaadd",
   "metadata": {},
   "source": [
    "# A Specific Example"
   ]
  },
  {
   "cell_type": "code",
   "execution_count": 2,
   "id": "087538f3",
   "metadata": {
    "ExecuteTime": {
     "end_time": "2024-01-23T13:42:37.107171Z",
     "start_time": "2024-01-23T13:42:37.094146Z"
    }
   },
   "outputs": [
    {
     "data": {
      "text/plain": [
       "{1: array([[ 0.+0.j,  0.+0.j,  0.+0.j,  0.+0.j,  0.+0.j,  0.+0.j],\n",
       "        [ 0.+0.j,  0.+0.j,  0.+0.j,  0.+0.j,  0.+0.j,  0.+0.j],\n",
       "        [ 0.+0.j,  0.+0.j,  0.+1.j,  1.+0.j,  0.+0.j,  0.+0.j],\n",
       "        [ 0.+0.j,  0.+0.j, -1.+0.j,  0.+1.j,  1.+0.j,  0.+0.j],\n",
       "        [ 0.+0.j,  0.+0.j,  0.+0.j, -1.+0.j,  0.+0.j,  0.+0.j],\n",
       "        [ 0.+0.j,  0.+0.j,  0.+0.j,  0.+0.j,  0.+0.j,  0.+0.j]]),\n",
       " 2: array([[ 0.+0.j,  0.+0.j,  0.+0.j,  0.+0.j,  0.+0.j,  0.+0.j],\n",
       "        [ 0.+0.j,  0.+1.j,  1.+0.j,  0.+0.j,  0.+0.j,  0.+0.j],\n",
       "        [ 0.+0.j, -1.+0.j,  0.+0.j,  0.+0.j,  0.+0.j,  0.+0.j],\n",
       "        [ 0.+0.j,  0.+0.j,  0.+0.j,  0.+0.j,  0.+0.j,  0.+0.j],\n",
       "        [ 0.+0.j,  0.+0.j,  0.+0.j,  0.+0.j,  0.+0.j,  0.+0.j],\n",
       "        [ 0.+0.j,  0.+0.j,  0.+0.j,  0.+0.j,  0.+0.j,  0.+0.j]]),\n",
       " 3: array([[ 0.+1.j,  1.+0.j,  0.+0.j,  0.+0.j,  0.+0.j,  0.+0.j],\n",
       "        [-1.+0.j,  0.+0.j,  0.+0.j,  0.+0.j,  0.+0.j,  0.+0.j],\n",
       "        [ 0.+0.j,  0.+0.j,  0.+0.j,  0.+0.j,  0.+0.j,  0.+0.j],\n",
       "        [ 0.+0.j,  0.+0.j,  0.+0.j,  0.+0.j,  0.+0.j,  0.+0.j],\n",
       "        [ 0.+0.j,  0.+0.j,  0.+0.j,  0.+0.j,  0.+0.j,  0.+0.j],\n",
       "        [ 0.+0.j,  0.+0.j,  0.+0.j,  0.+0.j,  0.+0.j,  0.+0.j]]),\n",
       " 4: array([[ 0.+0.j,  0.+0.j,  0.+0.j,  0.+0.j,  0.+0.j,  0.+0.j],\n",
       "        [ 0.+0.j,  0.+0.j,  0.+0.j,  0.+0.j,  0.+0.j,  0.+0.j],\n",
       "        [ 0.+0.j,  0.+0.j,  0.+0.j,  0.+0.j,  0.+0.j,  0.+0.j],\n",
       "        [ 0.+0.j,  0.+0.j,  0.+0.j,  0.+0.j,  0.+0.j,  0.+0.j],\n",
       "        [ 0.+0.j,  0.+0.j,  0.+0.j,  0.+0.j,  0.+1.j,  1.+0.j],\n",
       "        [ 0.+0.j,  0.+0.j,  0.+0.j,  0.+0.j, -1.+0.j,  0.+0.j]])}"
      ]
     },
     "execution_count": 2,
     "metadata": {},
     "output_type": "execute_result"
    }
   ],
   "source": [
    "word = '32114'  # we check the word 32114\n",
    "word = np.array([int(s) for s in word])\n",
    "basis = dict()\n",
    "for letter in np.unique(word):\n",
    "    tmp = np.zeros([len(word) + 1, len(word) + 1], dtype=np.complex128)\n",
    "    for pos in np.where(word == letter)[0]:\n",
    "        tmp[pos, pos] += complex(0, 1)\n",
    "        tmp[pos, pos + 1] += 1\n",
    "        tmp[pos + 1, pos] -= 1\n",
    "    basis[letter] = tmp\n",
    "basis  # the definition of linear maps"
   ]
  },
  {
   "cell_type": "code",
   "execution_count": 3,
   "id": "70935dab",
   "metadata": {
    "ExecuteTime": {
     "end_time": "2024-01-23T13:42:37.116496Z",
     "start_time": "2024-01-23T13:42:37.110172Z"
    },
    "scrolled": true
   },
   "outputs": [
    {
     "name": "stdout",
     "output_type": "stream",
     "text": [
      "[[0.+0.j 0.+0.j 0.+0.j 0.+0.j 0.+1.j 1.+0.j]\n",
      " [0.+0.j 0.+0.j 0.+0.j 0.+0.j 0.+0.j 0.+0.j]\n",
      " [0.+0.j 0.+0.j 0.+0.j 0.+0.j 0.+0.j 0.+0.j]\n",
      " [0.+0.j 0.+0.j 0.+0.j 0.+0.j 0.+0.j 0.+0.j]\n",
      " [0.+0.j 0.+0.j 0.+0.j 0.+0.j 0.+0.j 0.+0.j]\n",
      " [0.+0.j 0.+0.j 0.+0.j 0.+0.j 0.+0.j 0.+0.j]]\n"
     ]
    }
   ],
   "source": [
    "perms = list(set(itertools.permutations(word)))\n",
    "correct = []\n",
    "for perm in perms:\n",
    "    prod = np.eye(len(word) + 1, dtype=np.complex128)\n",
    "    for i in perm:\n",
    "        prod = prod @ basis[i]\n",
    "    if prod[0, len(word)] != 0:\n",
    "        correct.append(perm)\n",
    "        print(prod)  # print out the permutation with non-zero (1, N_tilde + 1), which is (1, 6) in this case\n",
    "    \n",
    "if not (len(correct) == 1 and (correct[0] == word).all()):\n",
    "    raise Exception('Wrong Case!')"
   ]
  },
  {
   "cell_type": "code",
   "execution_count": null,
   "id": "916c567a",
   "metadata": {},
   "outputs": [],
   "source": []
  }
 ],
 "metadata": {
  "kernelspec": {
   "display_name": "Python 3 (ipykernel)",
   "language": "python",
   "name": "python3"
  },
  "language_info": {
   "codemirror_mode": {
    "name": "ipython",
    "version": 3
   },
   "file_extension": ".py",
   "mimetype": "text/x-python",
   "name": "python",
   "nbconvert_exporter": "python",
   "pygments_lexer": "ipython3",
   "version": "3.9.13"
  },
  "toc": {
   "base_numbering": 1,
   "nav_menu": {},
   "number_sections": true,
   "sideBar": true,
   "skip_h1_title": false,
   "title_cell": "Table of Contents",
   "title_sidebar": "Contents",
   "toc_cell": false,
   "toc_position": {},
   "toc_section_display": true,
   "toc_window_display": false
  },
  "varInspector": {
   "cols": {
    "lenName": 16,
    "lenType": 16,
    "lenVar": 40
   },
   "kernels_config": {
    "python": {
     "delete_cmd_postfix": "",
     "delete_cmd_prefix": "del ",
     "library": "var_list.py",
     "varRefreshCmd": "print(var_dic_list())"
    },
    "r": {
     "delete_cmd_postfix": ") ",
     "delete_cmd_prefix": "rm(",
     "library": "var_list.r",
     "varRefreshCmd": "cat(var_dic_list()) "
    }
   },
   "types_to_exclude": [
    "module",
    "function",
    "builtin_function_or_method",
    "instance",
    "_Feature"
   ],
   "window_display": false
  }
 },
 "nbformat": 4,
 "nbformat_minor": 5
}
